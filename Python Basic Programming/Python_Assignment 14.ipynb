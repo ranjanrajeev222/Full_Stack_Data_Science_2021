{
 "cells": [
  {
   "cell_type": "markdown",
   "metadata": {},
   "source": [
    "# Programming Assignment_14"
   ]
  },
  {
   "cell_type": "markdown",
   "metadata": {},
   "source": [
    " \n",
    "# 1. Define a class with a generator which can iterate the numbers, which are divisible by 7, between a given range 0 and n.\n"
   ]
  },
  {
   "cell_type": "code",
   "execution_count": 41,
   "metadata": {},
   "outputs": [
    {
     "name": "stdout",
     "output_type": "stream",
     "text": [
      "[0, 7, 14, 21, 28, 35, 42, 49, 56, 63, 70, 77, 84, 91, 98]\n"
     ]
    }
   ],
   "source": [
    "def divisible_by_7(n):\n",
    "    for i in range(n):\n",
    "        if i % 7 == 0:\n",
    "            yield i\n",
    "\n",
    "n = int(input(\"Enter a number: \"))\n",
    "list = []\n",
    "for i in divisible_by_7(n):\n",
    "    list.append(i)\n",
    "\n",
    "print(list)\n"
   ]
  },
  {
   "cell_type": "markdown",
   "metadata": {},
   "source": [
    "\n",
    "# 2. Write a program to compute the frequency of the words from the input. \n",
    "# The output should output after sorting the key alphanumerically. \n",
    "# Suppose the following input is supplied to the program:\n",
    "# New to Python or choosing between Python 2 and Python 3? Read Python 2 or Python 3.\n",
    "# Then, the output should be:\n",
    "# 2:2\n",
    "# 3.:1\n",
    "# 3?:1\n",
    "# New:1\n",
    "# Python:5\n",
    "# Read:1\n",
    "# and:1\n",
    "# between:1\n",
    "# choosing:1\n",
    "# or:2\n",
    "# to:1"
   ]
  },
  {
   "cell_type": "code",
   "execution_count": 3,
   "metadata": {},
   "outputs": [
    {
     "name": "stdout",
     "output_type": "stream",
     "text": [
      "2 : 2\n",
      "3 : 1\n",
      "3? : 1\n",
      "New : 1\n",
      "Python : 5\n",
      "Read : 1\n",
      "and : 1\n",
      "between : 1\n",
      "choosing : 1\n",
      "or : 2\n",
      "to : 1\n"
     ]
    }
   ],
   "source": [
    "\n",
    "def word_frequency(input_string):\n",
    "    words = input_string.split()\n",
    "    word_count = {}\n",
    "    for word in words:\n",
    "        if word in word_count:\n",
    "            word_count[word] += 1\n",
    "        else:\n",
    "            word_count[word] = 1\n",
    "    return word_count\n",
    "\n",
    "input_string = input(\"Enter a string: \")\n",
    "word_count = word_frequency(input_string)\n",
    "\n",
    "for key, value in sorted(word_count.items()):\n",
    "    print(key, \":\", value)"
   ]
  },
  {
   "cell_type": "markdown",
   "metadata": {},
   "source": [
    "# 3. Define a class Person and its two child classes: Male and Female. \n",
    "# All classes have a method \"getGender\" which can print \"Male\" for Male class and \"Female\" for Female class."
   ]
  },
  {
   "cell_type": "code",
   "execution_count": 35,
   "metadata": {},
   "outputs": [
    {
     "name": "stdout",
     "output_type": "stream",
     "text": [
      "this is the Person class \n",
      "welcome to the Person class\n",
      "this is the Male class\n",
      "tis is the Male Gender method\n",
      "this is female class\n",
      "this is the FEMALE Gender method\n"
     ]
    }
   ],
   "source": [
    "\n",
    "class Person:\n",
    "    def __init__(self,fname):\n",
    "        self.fname=fname\n",
    "        print(\"this is the Person class \")\n",
    "    def getGender(self):\n",
    "        print(\"welcome to the Person class\")\n",
    "        \n",
    "class Male(Person):\n",
    "    def __init__(self):\n",
    "        print(\"this is the Male class\")\n",
    "    \n",
    "    def getGender(self):\n",
    "        print(\"tis is the Male Gender method\")\n",
    "        \n",
    "class Female(Person):\n",
    "    def __init__(self):\n",
    "        print(\"this is female class\")\n",
    "        \n",
    "    def getGender(self):\n",
    "        print(\"this is the FEMALE Gender method\")\n",
    "\n",
    "a=Person(\"pavan\").getGender()\n",
    "Male().getGender()\n",
    "Female().getGender()"
   ]
  },
  {
   "cell_type": "markdown",
   "metadata": {},
   "source": [
    "# 4. Please write a program to generate all sentences where subject is in [\"I\", \"You\"] and verb is in [\"Play\", \"Love\"] and the object is in [\"Hockey\",\"Football\"].\n"
   ]
  },
  {
   "cell_type": "code",
   "execution_count": 5,
   "metadata": {},
   "outputs": [
    {
     "name": "stdout",
     "output_type": "stream",
     "text": [
      "I Play Hockey\n",
      "I Play Football\n",
      "I Love Hockey\n",
      "I Love Football\n",
      "You Play Hockey\n",
      "You Play Football\n",
      "You Love Hockey\n",
      "You Love Football\n"
     ]
    }
   ],
   "source": [
    "\n",
    "def sentence(subject, verb, object):\n",
    "    for i in subject:\n",
    "        for j in verb:\n",
    "            for k in object:\n",
    "                print(i, j, k)\n",
    "\n",
    "subject = [\"I\", \"You\"]\n",
    "verb = [\"Play\", \"Love\"]\n",
    "object = [\"Hockey\", \"Football\"]\n",
    "sentence(subject, verb, object)\n"
   ]
  },
  {
   "cell_type": "markdown",
   "metadata": {},
   "source": [
    "# 5. Please write a program to compress and decompress the string \"hello world!hello world!hello world!hello world!\"."
   ]
  },
  {
   "cell_type": "code",
   "execution_count": 39,
   "metadata": {},
   "outputs": [
    {
     "name": "stdout",
     "output_type": "stream",
     "text": [
      "hello world!hello world!hello world!hello world!\n",
      "h1e1l2o1 1w1o1r1l1d1!1h1e1l2o1 1w1o1r1l1d1!1h1e1l2o1 1w1o1r1l1d1!1h1e1l2o1 1w1o1r1l1d1!1\n",
      "hello world!hello world!hello world!hello world!\n"
     ]
    }
   ],
   "source": [
    "def compress(input_string):\n",
    "    compressed_string = \"\"\n",
    "    count = 0\n",
    "    for i in range(len(input_string)):\n",
    "        count += 1\n",
    "        if i == len(input_string) - 1 or input_string[i] != input_string[i + 1]:\n",
    "            compressed_string += input_string[i] + str(count)\n",
    "            count = 0\n",
    "    return compressed_string\n",
    "\n",
    "def decompress(compressed_string):\n",
    "    decompressed_string = \"\"\n",
    "    for i in range(0, len(compressed_string), 2):\n",
    "        decompressed_string += compressed_string[i] * int(compressed_string[i + 1])\n",
    "    return decompressed_string\n",
    "\n",
    "input_string = \"hello world!hello world!hello world!hello world!\"\n",
    "compressed_string = compress(input_string)\n",
    "decompressed_string = decompress(compressed_string)\n",
    "\n",
    "print(input_string)\n",
    "print(compressed_string)\n",
    "print(decompressed_string)\n",
    "        "
   ]
  },
  {
   "cell_type": "markdown",
   "metadata": {},
   "source": [
    "# 6. Please write a binary search function which searches an item in a sorted list. \n",
    "# The function should return the index of element to be searched in the list."
   ]
  },
  {
   "cell_type": "code",
   "execution_count": 11,
   "metadata": {},
   "outputs": [
    {
     "data": {
      "text/plain": [
       "10"
      ]
     },
     "execution_count": 11,
     "metadata": {},
     "output_type": "execute_result"
    }
   ],
   "source": [
    "def binary_search(sorted_list, item):\n",
    "    low = 0\n",
    "    high = len(sorted_list) - 1\n",
    "    while low <= high:\n",
    "        mid = (low + high) // 2\n",
    "        if item == sorted_list[mid]:\n",
    "            return mid\n",
    "        elif item < sorted_list[mid]:\n",
    "            high = mid - 1\n",
    "        else:\n",
    "            low = mid + 1\n",
    "    return -1\n",
    "\n",
    "sorted_list = [1, 2, 3, 4, 5, 6, 7, 8, 9, 10,100]\n",
    "item = 100\n",
    "\n",
    "binary_search(sorted_list, item)"
   ]
  }
 ],
 "metadata": {
  "interpreter": {
   "hash": "d0a86f05f82fde68ac0efb950d36470c82cb6a99d0792a6304fb56a579ae2f5b"
  },
  "kernelspec": {
   "display_name": "Python 3 (ipykernel)",
   "language": "python",
   "name": "python3"
  },
  "language_info": {
   "codemirror_mode": {
    "name": "ipython",
    "version": 3
   },
   "file_extension": ".py",
   "mimetype": "text/x-python",
   "name": "python",
   "nbconvert_exporter": "python",
   "pygments_lexer": "ipython3",
   "version": "3.9.7"
  }
 },
 "nbformat": 4,
 "nbformat_minor": 2
}
