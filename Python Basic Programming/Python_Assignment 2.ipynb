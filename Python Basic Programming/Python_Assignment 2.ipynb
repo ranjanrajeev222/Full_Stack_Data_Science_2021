{
 "cells": [
  {
   "cell_type": "markdown",
   "id": "5f875125",
   "metadata": {},
   "source": [
    "# Programming Assignment_2"
   ]
  },
  {
   "cell_type": "markdown",
   "id": "c6ed93c7",
   "metadata": {},
   "source": [
    "# 1. Write a Python program to convert kilometers to miles?"
   ]
  },
  {
   "cell_type": "code",
   "execution_count": 2,
   "id": "640e5668",
   "metadata": {},
   "outputs": [
    {
     "name": "stdout",
     "output_type": "stream",
     "text": [
      "Enter the Kilometer: 15\n",
      "15 km is equal to 9.32 miles.\n"
     ]
    }
   ],
   "source": [
    "def km_to_miles():\n",
    "    km = int(input('Enter the Kilometer: '))\n",
    "    miles = km * 0.621371\n",
    "    print(f\"{km} km is equal to {round(miles,2)} miles.\")\n",
    "\n",
    "a = km_to_miles()"
   ]
  },
  {
   "cell_type": "markdown",
   "id": "43d01638",
   "metadata": {},
   "source": [
    "# 2. Write a Python program to convert Celsius to Fahrenheit?"
   ]
  },
  {
   "cell_type": "code",
   "execution_count": 3,
   "id": "d6301e13",
   "metadata": {},
   "outputs": [
    {
     "name": "stdout",
     "output_type": "stream",
     "text": [
      "Enter celsius: 100\n",
      "100 degree celsius is equal to 212.0 fahrenheit.\n"
     ]
    }
   ],
   "source": [
    "celsius = int(input(\"Enter celsius: \"))\n",
    "fahrenheit = (celsius * (9/5)) + 32 \n",
    "\n",
    "print(f\"{celsius} degree celsius is equal to {round(fahrenheit,2)} fahrenheit.\")"
   ]
  },
  {
   "cell_type": "markdown",
   "id": "d6befc02",
   "metadata": {},
   "source": [
    "# 3. Write a Python program to display calendar?"
   ]
  },
  {
   "cell_type": "code",
   "execution_count": 4,
   "id": "768bdebe",
   "metadata": {},
   "outputs": [
    {
     "name": "stdout",
     "output_type": "stream",
     "text": [
      "Enter year: 2022\n",
      "Enter month in number: 1\n",
      "\n",
      "    January 2022\n",
      "Mo Tu We Th Fr Sa Su\n",
      "                1  2\n",
      " 3  4  5  6  7  8  9\n",
      "10 11 12 13 14 15 16\n",
      "17 18 19 20 21 22 23\n",
      "24 25 26 27 28 29 30\n",
      "31\n",
      "\n"
     ]
    }
   ],
   "source": [
    "import calendar\n",
    "\n",
    "year  = int(input(\"Enter year: \"))\n",
    "month = int(input(\"Enter month in number: \"))\n",
    "\n",
    "print(f\"\\n{calendar.month(year,month)}\")"
   ]
  },
  {
   "cell_type": "markdown",
   "id": "3213f935",
   "metadata": {},
   "source": [
    "# 4. Write a Python program to solve quadratic equation?"
   ]
  },
  {
   "cell_type": "code",
   "execution_count": 9,
   "id": "e04dd984",
   "metadata": {},
   "outputs": [
    {
     "name": "stdout",
     "output_type": "stream",
     "text": [
      "Enter a: 1\n",
      "Enter b: 3\n",
      "Enter c: 2\n",
      "(-1+0j), (-2+0j)\n"
     ]
    }
   ],
   "source": [
    "#quadratic equation is in form ax^2+bx+c\n",
    "import cmath     \n",
    "\n",
    "a = int(input(\"Enter a: \"))\n",
    "b = int(input(\"Enter b: \"))\n",
    "c = int(input(\"Enter c: \"))\n",
    "\n",
    "d = (b ** 2) - (4 * a * c)\n",
    "\n",
    "sol1 = (-b + cmath.sqrt(d)) /(2*a)\n",
    "sol2 = (-b - cmath.sqrt(d)) /(2*a)\n",
    "\n",
    "print(f\"{sol1}, {sol2}\")"
   ]
  },
  {
   "cell_type": "markdown",
   "id": "bd50038d",
   "metadata": {},
   "source": [
    "# 5. Write a Python program to swap two variables without temp variable?"
   ]
  },
  {
   "cell_type": "code",
   "execution_count": 10,
   "id": "0c69df43",
   "metadata": {},
   "outputs": [
    {
     "name": "stdout",
     "output_type": "stream",
     "text": [
      "Enter 1st number : 3\n",
      "Enter 2nd number : 4\n",
      "Before Swap :\n",
      "\tfirst-var: 3\tsecond-var: 4 \n",
      "After Swap :\n",
      "\tfirst-var: 4\tsecond-var: 3 \n"
     ]
    }
   ],
   "source": [
    "a = int(input(\"Enter 1st number : \"))\n",
    "b = int(input(\"Enter 2nd number : \"))\n",
    "\n",
    "print(f\"Before Swap :\\n\\tfirst-var: {a}\\tsecond-var: {b} \")\n",
    "\n",
    "a,b=b,a\n",
    "\n",
    "print(f\"After Swap :\\n\\tfirst-var: {a}\\tsecond-var: {b} \")"
   ]
  }
 ],
 "metadata": {
  "kernelspec": {
   "display_name": "Python 3 (ipykernel)",
   "language": "python",
   "name": "python3"
  },
  "language_info": {
   "codemirror_mode": {
    "name": "ipython",
    "version": 3
   },
   "file_extension": ".py",
   "mimetype": "text/x-python",
   "name": "python",
   "nbconvert_exporter": "python",
   "pygments_lexer": "ipython3",
   "version": "3.9.7"
  }
 },
 "nbformat": 4,
 "nbformat_minor": 5
}
