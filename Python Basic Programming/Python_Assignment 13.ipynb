{
 "cells": [
  {
   "cell_type": "markdown",
   "id": "37ff066d",
   "metadata": {},
   "source": [
    "# Programming Assignment_13"
   ]
  },
  {
   "cell_type": "markdown",
   "id": "1d6e0096",
   "metadata": {},
   "source": [
    "# 1. Write a program that calculates and prints the value according to the given formula:\n",
    "Q = Square root of [(2  C  D)/H]\n",
    "Following are the fixed values of C and H:- C is 50. H is 30.\n",
    "D is the variable whose values should be input to your program in a comma-separated sequence.\n",
    "    \n",
    "    Example\n",
    "    Let us assume the following comma separated input sequence is given to the program: 100,150,180\n",
    "    The output of the program should be: 18,22,24"
   ]
  },
  {
   "cell_type": "code",
   "execution_count": 1,
   "id": "98e540bc",
   "metadata": {},
   "outputs": [
    {
     "name": "stdout",
     "output_type": "stream",
     "text": [
      "Enter values:\n",
      "100,120,150\n",
      "Output: 18 20 22 "
     ]
    }
   ],
   "source": [
    "D = [int(i) for i in input(\"Enter values:\\n\").split(',')]\n",
    "\n",
    "C, H = 50, 30\n",
    "\n",
    "print(\"Output:\", end=\" \")\n",
    "for j in range(0,len(D)):\n",
    "    \n",
    "    Q = ((2 * C * D[j]) / H)\n",
    "    Q = Q ** 0.5\n",
    "    \n",
    "    print(f\"{round(Q)}\", end=\" \")"
   ]
  },
  {
   "cell_type": "markdown",
   "id": "be6a0d1b",
   "metadata": {},
   "source": [
    "# 2.Write a program which takes 2 digits, X,Y as input and generates a 2-dimensional array. The element value in the i-th  row  and j-th column of the array should be i*j.\n",
    "Note: i=0,1.., X-1; j=0,1,¡Y-1.\n",
    "\n",
    "    Example\n",
    "    Suppose the following inputs are given to the program: 3,5\n",
    "    Then, the output of the program should be: [[0, 0, 0, 0, 0], [0, 1, 2, 3, 4], [0, 2, 4, 6, 8]]"
   ]
  },
  {
   "cell_type": "code",
   "execution_count": 2,
   "id": "000cc89c",
   "metadata": {},
   "outputs": [
    {
     "name": "stdout",
     "output_type": "stream",
     "text": [
      "Enter no of rows: 4\n",
      "Enter no of columns: 3\n",
      "[0, 0, 0]\n",
      "[0, 1, 2]\n",
      "[0, 2, 4]\n",
      "[0, 3, 6]\n",
      "[[0, 0, 0], [0, 1, 2], [0, 2, 4], [0, 3, 6]]\n"
     ]
    }
   ],
   "source": [
    "x = int(input(\"Enter no of rows: \"))\n",
    "y = int(input(\"Enter no of columns: \"))\n",
    "mat = []\n",
    "\n",
    "for i in range(x):\n",
    "    row = []\n",
    "    for j in range(y):\n",
    "        row.append(i*j)\n",
    "    mat.append(row)\n",
    "    print(row)\n",
    "\n",
    "print(mat)"
   ]
  },
  {
   "cell_type": "markdown",
   "id": "7e2519db",
   "metadata": {},
   "source": [
    "# 3. Write a program that accepts a comma separated sequence of words as input and prints the words in a comma-separated sequence after sorting them alphabetically.\n",
    "    \n",
    "    Suppose the following input is supplied to the program: without,hello,bag,world\n",
    "    Then, the output should be: bag,hello,without,world"
   ]
  },
  {
   "cell_type": "code",
   "execution_count": 4,
   "id": "6a3ef2a3",
   "metadata": {},
   "outputs": [
    {
     "name": "stdout",
     "output_type": "stream",
     "text": [
      "Enter values:\n",
      "hello,my,name,is,aaditya\n",
      "aaditya,hello,is,my,name,"
     ]
    }
   ],
   "source": [
    "strings = [str(i) for i in input(\"Enter values:\\n\").split(',')]\n",
    "strings.sort()\n",
    "for k in strings:\n",
    "    print(k, end = \",\")"
   ]
  },
  {
   "cell_type": "markdown",
   "id": "866e0af2",
   "metadata": {},
   "source": [
    "# 4.Write a program that accepts a sequence of whitespace separated words as input and prints the words after removing all duplicate words and sorting them alphanumerically.\n",
    "\n",
    "    Suppose the following input is supplied to the program: hello world and practice makes perfect and hello world again\n",
    "    Then, the output should be: again and hello makes perfect practice world"
   ]
  },
  {
   "cell_type": "code",
   "execution_count": 5,
   "id": "8a644d74",
   "metadata": {},
   "outputs": [
    {
     "name": "stdout",
     "output_type": "stream",
     "text": [
      "Enter words:\n",
      "hello i am submitting all assignments and my name is aaditya\n",
      "Alphanumerically sorted words: aaditya all am and assignments hello i is my name submitting\n"
     ]
    }
   ],
   "source": [
    "words = [str(i) for i in input(\"Enter words:\\n\").split(' ')]\n",
    "words = list(set(words))\n",
    "words.sort()\n",
    "\n",
    "words = ' '.join(words)\n",
    "print(f\"Alphanumerically sorted words: {words}\")"
   ]
  },
  {
   "cell_type": "markdown",
   "id": "35b4ce61",
   "metadata": {},
   "source": [
    "# 5.Write a program that accepts a sentence and calculate the number of letters and digits.\n",
    "Suppose the following input is supplied to the program: hello world! 123\n",
    "Then, the output should be: LETTERS 10 DIGITS 3"
   ]
  },
  {
   "cell_type": "code",
   "execution_count": 1,
   "id": "96fac823",
   "metadata": {},
   "outputs": [
    {
     "name": "stdout",
     "output_type": "stream",
     "text": [
      "Enter sentence hello world! 123\n",
      "LETTERS 10 \n",
      "DIGITS 3\n"
     ]
    }
   ],
   "source": [
    "sentence = str(input(\"Enter sentence \"))\n",
    "letters = 0\n",
    "digits = 0\n",
    "\n",
    "for i in sentence:\n",
    "    if i.isalpha():\n",
    "        letters = letters+1\n",
    "    elif i.isdigit():\n",
    "        digits = digits+1\n",
    "    else:\n",
    "        pass\n",
    "     \n",
    "print(f\"LETTERS {letters} \\nDIGITS {digits}\")"
   ]
  },
  {
   "cell_type": "markdown",
   "id": "23728397",
   "metadata": {},
   "source": [
    "# 6. A website requires the users to input username and password to register. Write a program to check the validity of password input by users.\n",
    "\n",
    "\n",
    "# Following are the criteria for checking the password:\n",
    "\n",
    "\n",
    "\n",
    "# At least 1 letter between [a-z]\n",
    "# At least 1 number between [0-9]\n",
    "# At least 1 letter between [A-Z]\n",
    "# At least 1 character from [$#@]\n",
    "# Minimum length of transaction password: 6\n",
    "# Maximum length of transaction password: 12\n",
    "\n",
    "Your program should accept a sequence of comma separated passwords and will check them according to the above criteria. Passwords that match the criteria are to be printed, each separated by a comma.\n",
    "\n",
    "\n",
    "Example\n",
    "If the following passwords are given as input to the program: ABd1234@1,a F1#,2w3E*,2We3345\n",
    "Then, the output of the program should be: ABd1234@1"
   ]
  },
  {
   "cell_type": "code",
   "execution_count": 2,
   "id": "ca312312",
   "metadata": {},
   "outputs": [
    {
     "name": "stdout",
     "output_type": "stream",
     "text": [
      "Enter passwords:\n",
      "ABd1234@1,a F1#,2w3E*,2We3345\n",
      "\n",
      "Correct password is: ['ABd1234@1']\n"
     ]
    }
   ],
   "source": [
    "passwords = [str(i) for i in input(\"Enter passwords:\\n\").split(\",\")]\n",
    "\n",
    "spl_char = [\"$\",\"#\",\"@\"]\n",
    "correctpass = []\n",
    "\n",
    "for i in passwords:\n",
    "    if (len(i)<6 or len(i)>12):\n",
    "        continue\n",
    "    if (i.isupper() or i.islower()):\n",
    "        continue\n",
    "    num = any(j.isdigit() for j in i)\n",
    "    if (not num):\n",
    "        continue\n",
    "    spl = any(j in spl_char for j in i)\n",
    "    if (not spl):\n",
    "        continue\n",
    "    \n",
    "    correctpass.append(i)\n",
    "\n",
    "print(f\"\\nCorrect password is: {correctpass}\")"
   ]
  }
 ],
 "metadata": {
  "kernelspec": {
   "display_name": "Python 3 (ipykernel)",
   "language": "python",
   "name": "python3"
  },
  "language_info": {
   "codemirror_mode": {
    "name": "ipython",
    "version": 3
   },
   "file_extension": ".py",
   "mimetype": "text/x-python",
   "name": "python",
   "nbconvert_exporter": "python",
   "pygments_lexer": "ipython3",
   "version": "3.9.7"
  }
 },
 "nbformat": 4,
 "nbformat_minor": 5
}
