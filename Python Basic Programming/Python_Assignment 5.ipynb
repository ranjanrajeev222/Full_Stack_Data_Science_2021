{
 "cells": [
  {
   "cell_type": "markdown",
   "id": "2397c9b3",
   "metadata": {},
   "source": [
    "# Programming Assignment_5"
   ]
  },
  {
   "cell_type": "markdown",
   "id": "cfc9cf42",
   "metadata": {},
   "source": [
    "# 1. Write a Python Program to Find LCM?"
   ]
  },
  {
   "cell_type": "code",
   "execution_count": 2,
   "id": "f1bc5ed1",
   "metadata": {},
   "outputs": [
    {
     "name": "stdout",
     "output_type": "stream",
     "text": [
      "LCM of 8 and 10 is 40\n"
     ]
    }
   ],
   "source": [
    "def lcm(a,b):\n",
    "    if(a>b):\n",
    "        max=a\n",
    "    else:\n",
    "        max=b\n",
    "    while True:\n",
    "        if max%a==0 and max%b==0:\n",
    "            print(f\"LCM of {a} and {b} is {max}\")\n",
    "            break\n",
    "        max=max+1\n",
    "lcm(8,10)"
   ]
  },
  {
   "cell_type": "markdown",
   "id": "a78306e6",
   "metadata": {},
   "source": [
    "# 2. Write a Python Program to Find HCF?"
   ]
  },
  {
   "cell_type": "code",
   "execution_count": 5,
   "id": "8e7cc4de",
   "metadata": {},
   "outputs": [
    {
     "name": "stdout",
     "output_type": "stream",
     "text": [
      "HCF is:  14\n"
     ]
    }
   ],
   "source": [
    "def hcf(a,b):\n",
    "    if a<b:\n",
    "        min = a\n",
    "    else:\n",
    "        min = b\n",
    "    for i in range(min+1,1,-1):\n",
    "        if a % i == 0 and b % i == 0:\n",
    "            hcf=i\n",
    "            break\n",
    "    print(\"HCF is: \", hcf)\n",
    "hcf(42,56)"
   ]
  },
  {
   "cell_type": "markdown",
   "id": "491b4206",
   "metadata": {},
   "source": [
    "# 3. Write a Python Program to Convert Decimal to Binary, Octal and Hexadecimal?"
   ]
  },
  {
   "cell_type": "code",
   "execution_count": 7,
   "id": "27a9e43e",
   "metadata": {},
   "outputs": [
    {
     "name": "stdout",
     "output_type": "stream",
     "text": [
      "Enter Decimal Number: 20\n",
      "Decimal to Binary:  0b10100\n",
      "Decimal to Octal:  0o24\n",
      "Decimal to Hexadecimal:  0x14\n"
     ]
    }
   ],
   "source": [
    "num = int(input(\"Enter Decimal Number: \"))\n",
    "print(\"Decimal to Binary: \",bin(num))\n",
    "print(\"Decimal to Octal: \",oct(num))\n",
    "print(\"Decimal to Hexadecimal: \",hex(num))"
   ]
  },
  {
   "cell_type": "markdown",
   "id": "acd5ffb1",
   "metadata": {},
   "source": [
    "# 4. Write a Python Program To Find ASCII value of a character?"
   ]
  },
  {
   "cell_type": "code",
   "execution_count": 8,
   "id": "1551bf00",
   "metadata": {},
   "outputs": [
    {
     "data": {
      "text/plain": [
       "65"
      ]
     },
     "execution_count": 8,
     "metadata": {},
     "output_type": "execute_result"
    }
   ],
   "source": [
    "def ascii_value(character):\n",
    "    return ord(character)\n",
    "\n",
    "ascii_value(\"A\")"
   ]
  },
  {
   "cell_type": "markdown",
   "id": "2d1c2e50",
   "metadata": {},
   "source": [
    "# 5. Write a Python Program to Make a Simple Calculator with 4 basic mathematical operations?"
   ]
  },
  {
   "cell_type": "code",
   "execution_count": 9,
   "id": "b7500bcc",
   "metadata": {},
   "outputs": [],
   "source": [
    "def calculator(a,b):\n",
    "    operation = str(input(\"What operation would you like to perform: \"))\n",
    "    \n",
    "    if operation == \"addition\":\n",
    "        print(f\"{a} + {b} = {a+b}\")\n",
    "    \n",
    "    elif operation == \"subtraction\":\n",
    "        print(f\"{a} - {b} = {a-b}\")\n",
    "    \n",
    "    elif operation == \"multiplication\":\n",
    "        print(f\"{a} X {b} = {a*b}\")\n",
    "    \n",
    "    elif operation == \"division\":\n",
    "        print(f\"{a} / {b} = {a/b}\")\n",
    "    \n",
    "    else:\n",
    "        print(\"Enter correct operation\")"
   ]
  },
  {
   "cell_type": "code",
   "execution_count": 10,
   "id": "7d59aa8e",
   "metadata": {},
   "outputs": [
    {
     "name": "stdout",
     "output_type": "stream",
     "text": [
      "What operation would you like to perform: division\n",
      "1 / 5 = 0.2\n"
     ]
    }
   ],
   "source": [
    "calculator(1,5)"
   ]
  },
  {
   "cell_type": "code",
   "execution_count": 11,
   "id": "1e71bccf",
   "metadata": {},
   "outputs": [
    {
     "name": "stdout",
     "output_type": "stream",
     "text": [
      "What operation would you like to perform: xyz\n",
      "Enter correct operation\n"
     ]
    }
   ],
   "source": [
    "calculator(2,10)"
   ]
  },
  {
   "cell_type": "code",
   "execution_count": 12,
   "id": "b8e34366",
   "metadata": {},
   "outputs": [
    {
     "name": "stdout",
     "output_type": "stream",
     "text": [
      "What operation would you like to perform: multiplication\n",
      "13.0 X 15.6 = 202.79999999999998\n"
     ]
    }
   ],
   "source": [
    "calculator(13.0,15.6)"
   ]
  }
 ],
 "metadata": {
  "kernelspec": {
   "display_name": "Python 3 (ipykernel)",
   "language": "python",
   "name": "python3"
  },
  "language_info": {
   "codemirror_mode": {
    "name": "ipython",
    "version": 3
   },
   "file_extension": ".py",
   "mimetype": "text/x-python",
   "name": "python",
   "nbconvert_exporter": "python",
   "pygments_lexer": "ipython3",
   "version": "3.9.7"
  }
 },
 "nbformat": 4,
 "nbformat_minor": 5
}
