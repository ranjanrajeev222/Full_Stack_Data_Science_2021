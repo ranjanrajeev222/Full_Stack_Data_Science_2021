{
 "cells": [
  {
   "cell_type": "markdown",
   "id": "1d30e80e",
   "metadata": {},
   "source": [
    "# Programming Assignment_1"
   ]
  },
  {
   "cell_type": "markdown",
   "id": "9a962bce",
   "metadata": {},
   "source": [
    "# Q1. Write a Python program to print \"Hello Python\""
   ]
  },
  {
   "cell_type": "code",
   "execution_count": 1,
   "id": "d87cb08f",
   "metadata": {},
   "outputs": [
    {
     "name": "stdout",
     "output_type": "stream",
     "text": [
      "Hello Python\n"
     ]
    }
   ],
   "source": [
    "print(\"Hello Python\")"
   ]
  },
  {
   "cell_type": "markdown",
   "id": "e867cd89",
   "metadata": {},
   "source": [
    "# Q.2 Write a Python program to do arithmetical operations addition and division?"
   ]
  },
  {
   "cell_type": "code",
   "execution_count": 2,
   "id": "76a0c1ed",
   "metadata": {},
   "outputs": [
    {
     "name": "stdout",
     "output_type": "stream",
     "text": [
      "Enter First Number5\n",
      "Enter Second Number8\n",
      "Sum= 13\n",
      "Quotient= 0  Remainder= 5\n"
     ]
    }
   ],
   "source": [
    "a=int(input(\"Enter First Number\"))\n",
    "b=int(input(\"Enter Second Number\"))\n",
    "\n",
    "#Addition operation\n",
    "\n",
    "sum=a+b\n",
    "print(\"Sum=\",str(sum))\n",
    "\n",
    "#Division operation\n",
    "\n",
    "quo=a//b\n",
    "rem=a%b\n",
    "print(\"Quotient=\",str(quo),\" Remainder=\",rem)"
   ]
  },
  {
   "cell_type": "markdown",
   "id": "8cc86244",
   "metadata": {},
   "source": [
    "# Q.3 Write a Python program to find the area of a triangle"
   ]
  },
  {
   "cell_type": "code",
   "execution_count": 3,
   "id": "42d0fafe",
   "metadata": {},
   "outputs": [
    {
     "name": "stdout",
     "output_type": "stream",
     "text": [
      "Enter Base:6\n",
      "Enter Height:3\n",
      "Area= 9.0\n"
     ]
    }
   ],
   "source": [
    "def area(base,height):\n",
    "    area = (base * height)/2\n",
    "    print(\"Area=\",str(area))\n",
    "    \n",
    "b=int(input(\"Enter Base:\"))\n",
    "h=int(input(\"Enter Height:\"))\n",
    "area = area(b,h)"
   ]
  },
  {
   "cell_type": "markdown",
   "id": "66de94df",
   "metadata": {},
   "source": [
    "# Q.4 Write a Python program to swap two variables"
   ]
  },
  {
   "cell_type": "code",
   "execution_count": 4,
   "id": "d033a088",
   "metadata": {},
   "outputs": [
    {
     "name": "stdout",
     "output_type": "stream",
     "text": [
      "Num-1: 55\n",
      "Num-2: 78\n",
      "Before Swap :\n",
      "\tnum-1: 55\tnum-2: 78 \n",
      "After Swap :\n",
      "\tnum-1: 78\tnum-2: 55 \n"
     ]
    }
   ],
   "source": [
    "a= int(input(\"Num-1: \"))\n",
    "b= int(input(\"Num-2: \"))\n",
    "\n",
    "print(f\"Before Swap :\\n\\tnum-1: {a}\\tnum-2: {b} \")\n",
    "\n",
    "a,b = b,a\n",
    "\n",
    "print(f\"After Swap :\\n\\tnum-1: {a}\\tnum-2: {b} \")"
   ]
  },
  {
   "cell_type": "markdown",
   "id": "757abb69",
   "metadata": {},
   "source": [
    "# Q.5 Write a Python program to generate a random number?"
   ]
  },
  {
   "cell_type": "code",
   "execution_count": 5,
   "id": "b631b711",
   "metadata": {},
   "outputs": [
    {
     "name": "stdout",
     "output_type": "stream",
     "text": [
      "Enter Min number : 3\n",
      "Enter Max number : 100\n",
      "11\n"
     ]
    }
   ],
   "source": [
    "import random\n",
    "\n",
    "a = int(input(\"Enter Min number : \"))\n",
    "b = int(input(\"Enter Max number : \"))\n",
    "print(random.randint(a,b))"
   ]
  },
  {
   "cell_type": "code",
   "execution_count": null,
   "id": "f8a3308d",
   "metadata": {},
   "outputs": [],
   "source": []
  }
 ],
 "metadata": {
  "kernelspec": {
   "display_name": "Python 3 (ipykernel)",
   "language": "python",
   "name": "python3"
  },
  "language_info": {
   "codemirror_mode": {
    "name": "ipython",
    "version": 3
   },
   "file_extension": ".py",
   "mimetype": "text/x-python",
   "name": "python",
   "nbconvert_exporter": "python",
   "pygments_lexer": "ipython3",
   "version": "3.9.7"
  }
 },
 "nbformat": 4,
 "nbformat_minor": 5
}
