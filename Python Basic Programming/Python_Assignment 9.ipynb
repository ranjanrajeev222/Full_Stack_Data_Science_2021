{
 "cells": [
  {
   "cell_type": "markdown",
   "id": "76010c1d",
   "metadata": {},
   "source": [
    "# Programming Assignment_9"
   ]
  },
  {
   "cell_type": "markdown",
   "id": "aabbe636",
   "metadata": {},
   "source": [
    "# 1.Write a Python program to check if the given number is a Disarium Number?"
   ]
  },
  {
   "cell_type": "code",
   "execution_count": 1,
   "id": "ea377209",
   "metadata": {},
   "outputs": [],
   "source": [
    "def disarium(a):\n",
    "    temp = a\n",
    "    l = len(str(temp))\n",
    "    sum = 0\n",
    "\n",
    "    while temp!=0:\n",
    "        rem = temp%10\n",
    "        sum = sum + rem**l\n",
    "        l = l-1\n",
    "        temp = temp//10\n",
    "    \n",
    "    if sum == a:\n",
    "        print(\"Its a Disarium Number\")\n",
    "    else:\n",
    "        print(\"Try another number\")"
   ]
  },
  {
   "cell_type": "code",
   "execution_count": 2,
   "id": "b03b2f51",
   "metadata": {},
   "outputs": [
    {
     "name": "stdout",
     "output_type": "stream",
     "text": [
      "Its a Disarium Number\n"
     ]
    }
   ],
   "source": [
    "disarium(89)"
   ]
  },
  {
   "cell_type": "markdown",
   "id": "a38e34a8",
   "metadata": {},
   "source": [
    "# 2.Write a Python program to print all disarium numbers between 1 to 100?"
   ]
  },
  {
   "cell_type": "code",
   "execution_count": 4,
   "id": "278159f8",
   "metadata": {},
   "outputs": [
    {
     "name": "stdout",
     "output_type": "stream",
     "text": [
      "Lower limit: 20\n",
      "Upper limit: 200\n",
      "89 is Disarium Number\n",
      "135 is Disarium Number\n",
      "175 is Disarium Number\n"
     ]
    }
   ],
   "source": [
    "lower = int(input(\"Lower limit: \"))\n",
    "upper = int(input(\"Upper limit: \"))+1\n",
    "\n",
    "for i in range(lower,upper):\n",
    "    temp = i\n",
    "    l = len(str(temp))\n",
    "    sum = 0\n",
    "    while temp!=0:\n",
    "        rem = temp%10\n",
    "        sum = sum + rem**l\n",
    "        l = l-1\n",
    "        temp = temp//10\n",
    "        \n",
    "    if sum==i:\n",
    "        print(f\"{i} is Disarium Number\")"
   ]
  },
  {
   "cell_type": "markdown",
   "id": "c4232234",
   "metadata": {},
   "source": [
    "# 3.Write a Python program to check if the given number is Happy Number?"
   ]
  },
  {
   "cell_type": "code",
   "execution_count": 5,
   "id": "e3ded75d",
   "metadata": {},
   "outputs": [],
   "source": [
    "def square_sum(n):\n",
    "    sum = 0\n",
    "    while n > 0:\n",
    "        rem = n%10\n",
    "        sum = sum + rem**2\n",
    "        n = n//10\n",
    "    return sum\n",
    "\n",
    "\n",
    "def happy_no(n):\n",
    "    l=set()\n",
    "    while square_sum(n) not in l:\n",
    "        sum1 = square_sum(n)\n",
    "        if sum1==1:\n",
    "            return True\n",
    "        else:\n",
    "            l.add(sum1)\n",
    "            n = sum1\n",
    "    return False   "
   ]
  },
  {
   "cell_type": "code",
   "execution_count": 6,
   "id": "83a15d30",
   "metadata": {},
   "outputs": [
    {
     "data": {
      "text/plain": [
       "True"
      ]
     },
     "execution_count": 6,
     "metadata": {},
     "output_type": "execute_result"
    }
   ],
   "source": [
    "happy_no(10)"
   ]
  },
  {
   "cell_type": "markdown",
   "id": "46e143f4",
   "metadata": {},
   "source": [
    "# 4.Write a Python program to print all happy numbers between 1 and 100?"
   ]
  },
  {
   "cell_type": "code",
   "execution_count": 7,
   "id": "be3b6161",
   "metadata": {},
   "outputs": [
    {
     "data": {
      "text/plain": [
       "[1, 7, 10, 13, 19, 23, 28, 31, 32, 44, 49, 68, 70, 79, 82, 86, 91, 94, 97, 100]"
      ]
     },
     "execution_count": 7,
     "metadata": {},
     "output_type": "execute_result"
    }
   ],
   "source": [
    "def square_sum(n):\n",
    "    sum = 0\n",
    "    while n > 0:\n",
    "        rem = n%10\n",
    "        sum = sum + rem**2\n",
    "        n = n//10\n",
    "    return sum\n",
    "\n",
    "\n",
    "def happy_no(n):\n",
    "    l=set()\n",
    "    while square_sum(n) not in l:\n",
    "        sum1 = square_sum(n)\n",
    "        if sum1==1:\n",
    "            return True\n",
    "        else:\n",
    "            l.add(sum1)\n",
    "            n = sum1\n",
    "    return False   \n",
    "[i for i in range(1,101) if happy_no(i) == True]"
   ]
  },
  {
   "cell_type": "markdown",
   "id": "faf76989",
   "metadata": {},
   "source": [
    "# 5.Write a Python program to determine whether the given number is a Harshad Number?"
   ]
  },
  {
   "cell_type": "code",
   "execution_count": 8,
   "id": "2714ffe3",
   "metadata": {},
   "outputs": [],
   "source": [
    "def sumofdigits(n):\n",
    "    sum = 0\n",
    "    temp = n\n",
    "    while temp>0:\n",
    "        rem = temp%10\n",
    "        sum = sum + rem\n",
    "        temp = temp//10\n",
    "    return sum\n",
    "\n",
    "\n",
    "def harshad_number(n):\n",
    "    if n%sumofdigits(n)==0:\n",
    "        return True\n",
    "    return False"
   ]
  },
  {
   "cell_type": "code",
   "execution_count": 9,
   "id": "83cce633",
   "metadata": {},
   "outputs": [
    {
     "data": {
      "text/plain": [
       "True"
      ]
     },
     "execution_count": 9,
     "metadata": {},
     "output_type": "execute_result"
    }
   ],
   "source": [
    "harshad_number(27)"
   ]
  },
  {
   "cell_type": "markdown",
   "id": "9c70fcfb",
   "metadata": {},
   "source": [
    "# 6.Write a Python program to print all pronic numbers between 1 and 100?"
   ]
  },
  {
   "cell_type": "code",
   "execution_count": 10,
   "id": "071b17fc",
   "metadata": {},
   "outputs": [
    {
     "data": {
      "text/plain": [
       "[1,\n",
       " 2,\n",
       " 3,\n",
       " 4,\n",
       " 5,\n",
       " 6,\n",
       " 7,\n",
       " 8,\n",
       " 9,\n",
       " 10,\n",
       " 12,\n",
       " 18,\n",
       " 20,\n",
       " 21,\n",
       " 24,\n",
       " 27,\n",
       " 30,\n",
       " 36,\n",
       " 40,\n",
       " 42,\n",
       " 45,\n",
       " 48,\n",
       " 50,\n",
       " 54,\n",
       " 60,\n",
       " 63,\n",
       " 70,\n",
       " 72,\n",
       " 80,\n",
       " 81,\n",
       " 84,\n",
       " 90,\n",
       " 100]"
      ]
     },
     "execution_count": 10,
     "metadata": {},
     "output_type": "execute_result"
    }
   ],
   "source": [
    "[i for i in range(1,101) if harshad_number(i)]"
   ]
  }
 ],
 "metadata": {
  "kernelspec": {
   "display_name": "Python 3 (ipykernel)",
   "language": "python",
   "name": "python3"
  },
  "language_info": {
   "codemirror_mode": {
    "name": "ipython",
    "version": 3
   },
   "file_extension": ".py",
   "mimetype": "text/x-python",
   "name": "python",
   "nbconvert_exporter": "python",
   "pygments_lexer": "ipython3",
   "version": "3.9.7"
  }
 },
 "nbformat": 4,
 "nbformat_minor": 5
}
