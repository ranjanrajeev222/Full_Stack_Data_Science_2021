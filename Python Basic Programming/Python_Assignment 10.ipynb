{
 "cells": [
  {
   "cell_type": "markdown",
   "id": "f7c5760c",
   "metadata": {},
   "source": [
    "# Programming Assignment_10"
   ]
  },
  {
   "cell_type": "markdown",
   "id": "f23728bd",
   "metadata": {},
   "source": [
    "# 1.Write a Python program to find sum of elements in list?"
   ]
  },
  {
   "cell_type": "code",
   "execution_count": 9,
   "id": "feb8580f",
   "metadata": {},
   "outputs": [],
   "source": [
    "l = [4,2,8,10,6]"
   ]
  },
  {
   "cell_type": "code",
   "execution_count": 10,
   "id": "eaa6730c",
   "metadata": {},
   "outputs": [
    {
     "name": "stdout",
     "output_type": "stream",
     "text": [
      "30\n"
     ]
    }
   ],
   "source": [
    "sum = 0\n",
    "for i in l:\n",
    "    sum = sum+i\n",
    "print(sum)"
   ]
  },
  {
   "cell_type": "markdown",
   "id": "761e7c6c",
   "metadata": {},
   "source": [
    "# 2.Write a Python program to Multiply all numbers in the list?"
   ]
  },
  {
   "cell_type": "code",
   "execution_count": 11,
   "id": "0a3abefa",
   "metadata": {},
   "outputs": [
    {
     "name": "stdout",
     "output_type": "stream",
     "text": [
      "3840\n"
     ]
    }
   ],
   "source": [
    "m = 1\n",
    "for i in l:\n",
    "    m = m*i\n",
    "print(m)"
   ]
  },
  {
   "cell_type": "markdown",
   "id": "1c95f342",
   "metadata": {},
   "source": [
    "# 3.Write a Python program to find smallest number in a list?"
   ]
  },
  {
   "cell_type": "code",
   "execution_count": 12,
   "id": "f10df341",
   "metadata": {},
   "outputs": [
    {
     "data": {
      "text/plain": [
       "2"
      ]
     },
     "execution_count": 12,
     "metadata": {},
     "output_type": "execute_result"
    }
   ],
   "source": [
    "min(l)"
   ]
  },
  {
   "cell_type": "markdown",
   "id": "60f11bb9",
   "metadata": {},
   "source": [
    "# 4.Write a Python program to find largest number in a list?"
   ]
  },
  {
   "cell_type": "code",
   "execution_count": 13,
   "id": "a3a5637f",
   "metadata": {},
   "outputs": [
    {
     "data": {
      "text/plain": [
       "10"
      ]
     },
     "execution_count": 13,
     "metadata": {},
     "output_type": "execute_result"
    }
   ],
   "source": [
    "max(l)"
   ]
  },
  {
   "cell_type": "markdown",
   "id": "73e8c863",
   "metadata": {},
   "source": [
    "# 5.Write a Python program to find second largest number in a list?"
   ]
  },
  {
   "cell_type": "code",
   "execution_count": 14,
   "id": "6defec9a",
   "metadata": {},
   "outputs": [
    {
     "name": "stdout",
     "output_type": "stream",
     "text": [
      "8\n"
     ]
    }
   ],
   "source": [
    "l.sort()\n",
    "print(l[-2])"
   ]
  },
  {
   "cell_type": "markdown",
   "id": "76961e95",
   "metadata": {},
   "source": [
    "# 6.Write a Python program to find N largest elements from a list?"
   ]
  },
  {
   "cell_type": "code",
   "execution_count": 15,
   "id": "62d7b82f",
   "metadata": {},
   "outputs": [
    {
     "name": "stdout",
     "output_type": "stream",
     "text": [
      "4th largest number is 4\n"
     ]
    }
   ],
   "source": [
    "def nthlargest(n):\n",
    "    l.sort()\n",
    "    print(f\"{n}th largest number is {l[-n]}\")\n",
    "nthlargest(4)"
   ]
  },
  {
   "cell_type": "markdown",
   "id": "1e2f95a5",
   "metadata": {},
   "source": [
    "# 7.Write a Python program to print even numbers in a list?"
   ]
  },
  {
   "cell_type": "code",
   "execution_count": 16,
   "id": "bdba211d",
   "metadata": {},
   "outputs": [],
   "source": [
    "l=[12,36,23,17,95,46]"
   ]
  },
  {
   "cell_type": "code",
   "execution_count": 17,
   "id": "26108c63",
   "metadata": {},
   "outputs": [
    {
     "name": "stdout",
     "output_type": "stream",
     "text": [
      "[12, 36, 46]\n"
     ]
    }
   ],
   "source": [
    "even = []\n",
    "for i in l:\n",
    "    if i%2==0:\n",
    "        even.append(i)\n",
    "print(even)"
   ]
  },
  {
   "cell_type": "markdown",
   "id": "65c08557",
   "metadata": {},
   "source": [
    "# 8. Write a Python program to print odd numbers in a List?"
   ]
  },
  {
   "cell_type": "code",
   "execution_count": 18,
   "id": "aea0c5f0",
   "metadata": {},
   "outputs": [
    {
     "name": "stdout",
     "output_type": "stream",
     "text": [
      "[23, 17, 95]\n"
     ]
    }
   ],
   "source": [
    "odd = []\n",
    "\n",
    "for i in l:\n",
    "    if i%2!=0:\n",
    "        odd.append(i)\n",
    "\n",
    "print(odd)"
   ]
  },
  {
   "cell_type": "markdown",
   "id": "4b8b17bf",
   "metadata": {},
   "source": [
    "# 9.Write a Python program to Remove empty List from List?"
   ]
  },
  {
   "cell_type": "code",
   "execution_count": 19,
   "id": "49913f45",
   "metadata": {},
   "outputs": [
    {
     "name": "stdout",
     "output_type": "stream",
     "text": [
      "[13, 12, 23, [51, 62, 38]]\n"
     ]
    }
   ],
   "source": [
    "l1 = [[],13,12,23,[51,62,38],[]]\n",
    "\n",
    "for i in l1:\n",
    "    if i == []:\n",
    "        l1.remove(i)\n",
    "print(l1)"
   ]
  },
  {
   "cell_type": "markdown",
   "id": "6503c96e",
   "metadata": {},
   "source": [
    "# 10.Write a Python program to Cloning or Copying a list?"
   ]
  },
  {
   "cell_type": "code",
   "execution_count": 20,
   "id": "757b66e8",
   "metadata": {},
   "outputs": [],
   "source": [
    "def clone(l1):\n",
    "    copy = []\n",
    "    for i in l1:\n",
    "        copy.append(i)\n",
    "        \n",
    "    print(f\"Original List : {l1}\\nCloned List: {copy}\")"
   ]
  },
  {
   "cell_type": "code",
   "execution_count": 21,
   "id": "9646a779",
   "metadata": {},
   "outputs": [
    {
     "name": "stdout",
     "output_type": "stream",
     "text": [
      "Original List : [13, 12, 23, [51, 62, 38]]\n",
      "Cloned List: [13, 12, 23, [51, 62, 38]]\n"
     ]
    }
   ],
   "source": [
    "clone(l1)"
   ]
  },
  {
   "cell_type": "markdown",
   "id": "52fe24b4",
   "metadata": {},
   "source": [
    "# 11.Write a Python program to Count occurrences of an element in a list?"
   ]
  },
  {
   "cell_type": "code",
   "execution_count": 22,
   "id": "25a5cd83",
   "metadata": {},
   "outputs": [
    {
     "name": "stdout",
     "output_type": "stream",
     "text": [
      "103 has occured 2 times\n"
     ]
    }
   ],
   "source": [
    "l2 = [103,205,306,103,220,310,710]\n",
    "element = 103\n",
    "count = 0\n",
    "\n",
    "for i in l2:\n",
    "    if element == i:\n",
    "        count+=1\n",
    "        \n",
    "print(f\"{element} has occured {count} times\")"
   ]
  }
 ],
 "metadata": {
  "kernelspec": {
   "display_name": "Python 3 (ipykernel)",
   "language": "python",
   "name": "python3"
  },
  "language_info": {
   "codemirror_mode": {
    "name": "ipython",
    "version": 3
   },
   "file_extension": ".py",
   "mimetype": "text/x-python",
   "name": "python",
   "nbconvert_exporter": "python",
   "pygments_lexer": "ipython3",
   "version": "3.9.7"
  }
 },
 "nbformat": 4,
 "nbformat_minor": 5
}
