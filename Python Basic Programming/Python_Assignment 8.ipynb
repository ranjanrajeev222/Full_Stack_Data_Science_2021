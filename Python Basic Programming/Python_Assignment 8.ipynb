{
 "cells": [
  {
   "cell_type": "markdown",
   "id": "d70cfbbc",
   "metadata": {},
   "source": [
    "# Programming Assignment_8"
   ]
  },
  {
   "cell_type": "markdown",
   "id": "c25f5395",
   "metadata": {},
   "source": [
    "# 1.Write a Python Program to Add Two Matrices?"
   ]
  },
  {
   "cell_type": "code",
   "execution_count": 1,
   "id": "2dee4379",
   "metadata": {},
   "outputs": [],
   "source": [
    "def sum(a,b):\n",
    "    output = []\n",
    "    for i in range(len(a)):\n",
    "        row = []\n",
    "        for j in range(len(a[0])):\n",
    "            row.append(a[i][j] + b[i][j])\n",
    "        output.append(row)\n",
    "    return output\n",
    "\n",
    "\n",
    "\n",
    "def matrix_input_and_add(m,n):    #m and n is size of matrics\n",
    "    print(\"Enter matrix A: \")\n",
    "    a = []\n",
    "    for i in range(m):\n",
    "        row = []\n",
    "        for j in range(n):\n",
    "            row.append(int(input()))\n",
    "        a.append(row)\n",
    "    print(\"Matrix a is \",a)\n",
    "    \n",
    "    \n",
    "    print(f\"\\nEnter matrix B: \")\n",
    "    b = []\n",
    "    for i in range(m):\n",
    "        row = []\n",
    "        for j in range(n):\n",
    "            row.append(int(input()))\n",
    "        b.append(row)\n",
    "    print(\"matrix b is \",b)\n",
    "    \n",
    "    \n",
    "    addition = sum(a,b)\n",
    "    return addition"
   ]
  },
  {
   "cell_type": "code",
   "execution_count": 2,
   "id": "025b08f7",
   "metadata": {},
   "outputs": [
    {
     "name": "stdout",
     "output_type": "stream",
     "text": [
      "Enter matrix A: \n",
      "1\n",
      "2\n",
      "3\n",
      "4\n",
      "5\n",
      "6\n",
      "7\n",
      "8\n",
      "9\n",
      "10\n",
      "11\n",
      "12\n",
      "13\n",
      "14\n",
      "15\n",
      "16\n",
      "Matrix a is  [[1, 2, 3, 4], [5, 6, 7, 8], [9, 10, 11, 12], [13, 14, 15, 16]]\n",
      "\n",
      "Enter matrix B: \n",
      "17\n",
      "18\n",
      "19\n",
      "20\n",
      "21\n",
      "22\n",
      "23\n",
      "24\n",
      "25\n",
      "26\n",
      "27\n",
      "28\n",
      "29\n",
      "30\n",
      "31\n",
      "32\n",
      "matrix b is  [[17, 18, 19, 20], [21, 22, 23, 24], [25, 26, 27, 28], [29, 30, 31, 32]]\n"
     ]
    },
    {
     "data": {
      "text/plain": [
       "[[18, 20, 22, 24], [26, 28, 30, 32], [34, 36, 38, 40], [42, 44, 46, 48]]"
      ]
     },
     "execution_count": 2,
     "metadata": {},
     "output_type": "execute_result"
    }
   ],
   "source": [
    "result = matrix_input_and_add(4,4)\n",
    "result"
   ]
  },
  {
   "cell_type": "markdown",
   "id": "cfa1d969",
   "metadata": {},
   "source": [
    "# 2.Write a Python Program to Multiply Two Matrices?"
   ]
  },
  {
   "cell_type": "code",
   "execution_count": 3,
   "id": "4f8f5857",
   "metadata": {},
   "outputs": [
    {
     "name": "stdout",
     "output_type": "stream",
     "text": [
      "[519, 684]\n",
      "[879, 1164]\n",
      "[141, 184]\n"
     ]
    }
   ],
   "source": [
    "A = [[54,45,66],[89,95,101],[11,15,17]]\n",
    "B = [[1,2],[3,4],[5,6]]\n",
    "\n",
    "C = [[0,0],[0,0],[0,0]]\n",
    "\n",
    "for i in range(0,len(C)):\n",
    "    for j in range(0,len(C[0])):\n",
    "        for k in range(0,len(B)):\n",
    "            C[i][j] += A[i][k]*B[k][j]\n",
    "            \n",
    "for row in C:\n",
    "    print(row)"
   ]
  },
  {
   "cell_type": "markdown",
   "id": "aaf57f21",
   "metadata": {},
   "source": [
    "# 3.Write a Python Program to Transpose a Matrix?"
   ]
  },
  {
   "cell_type": "code",
   "execution_count": 1,
   "id": "13a30063",
   "metadata": {},
   "outputs": [
    {
     "name": "stdout",
     "output_type": "stream",
     "text": [
      "[[1, 3, 5], [2, 4, 6]]\n"
     ]
    }
   ],
   "source": [
    "A = [[1,2],\n",
    "     [3,4],\n",
    "     [5,6]]\n",
    "\n",
    "C = [[0,0,0],\n",
    "     [0,0,0]]\n",
    "     \n",
    "for i in range(len(A)):\n",
    "    for j in range(len(A[0])):\n",
    "        C[j][i] = A[i][j]\n",
    "\n",
    "print(C)"
   ]
  },
  {
   "cell_type": "markdown",
   "id": "74c3ce29",
   "metadata": {},
   "source": [
    "# 4.Write a Python Program to Sort Words in Alphabetic Order?"
   ]
  },
  {
   "cell_type": "code",
   "execution_count": 5,
   "id": "540997c4",
   "metadata": {},
   "outputs": [
    {
     "name": "stdout",
     "output_type": "stream",
     "text": [
      "Enter String: Hello my name is Aaditya\n",
      "aaditya\n",
      "hello\n",
      "is\n",
      "my\n",
      "name\n"
     ]
    }
   ],
   "source": [
    "a = input(\"Enter String: \").lower()\n",
    "order = a.split()\n",
    "order.sort()\n",
    "for words in order:\n",
    "    print(words)"
   ]
  },
  {
   "cell_type": "markdown",
   "id": "29d38bb0",
   "metadata": {},
   "source": [
    "# 5.Write a Python Program to Remove Punctuation From a String?"
   ]
  },
  {
   "cell_type": "code",
   "execution_count": 7,
   "id": "20cb0fd5",
   "metadata": {},
   "outputs": [
    {
     "name": "stdout",
     "output_type": "stream",
     "text": [
      "Enter String: Hello!$#&@%76257127\n",
      "Hello76257127\n"
     ]
    }
   ],
   "source": [
    "punctuation = '''''!()-[]{};:'\"\\,<>./?@#$%^&*_~`''' \n",
    "a = input(\"Enter String: \")\n",
    "\n",
    "cleared = \"\"\n",
    "\n",
    "for char in a:\n",
    "    if char not in punctuation:\n",
    "        cleared += char\n",
    "print(cleared)"
   ]
  }
 ],
 "metadata": {
  "kernelspec": {
   "display_name": "Python 3 (ipykernel)",
   "language": "python",
   "name": "python3"
  },
  "language_info": {
   "codemirror_mode": {
    "name": "ipython",
    "version": 3
   },
   "file_extension": ".py",
   "mimetype": "text/x-python",
   "name": "python",
   "nbconvert_exporter": "python",
   "pygments_lexer": "ipython3",
   "version": "3.9.7"
  }
 },
 "nbformat": 4,
 "nbformat_minor": 5
}
