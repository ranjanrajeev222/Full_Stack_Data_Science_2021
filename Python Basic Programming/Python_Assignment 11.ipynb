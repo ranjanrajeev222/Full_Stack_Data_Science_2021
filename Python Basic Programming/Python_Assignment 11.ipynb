{
 "cells": [
  {
   "cell_type": "markdown",
   "id": "235fe260",
   "metadata": {},
   "source": [
    "# Programming Assignment_11"
   ]
  },
  {
   "cell_type": "markdown",
   "id": "dba8028e",
   "metadata": {},
   "source": [
    "# 1.Write a Python program to find words which are greater than given length k?"
   ]
  },
  {
   "cell_type": "code",
   "execution_count": 1,
   "id": "430cae59",
   "metadata": {},
   "outputs": [],
   "source": [
    "def greaterthan(sentence):\n",
    "    split = sentence.split(\" \")\n",
    "    print(split)\n",
    "\n",
    "    words_list = []\n",
    "    k = int(input(\"Enter length: \"))\n",
    "    for i in split:\n",
    "        if len(i)> k :\n",
    "            words_list.append(i)\n",
    "    return words_list"
   ]
  },
  {
   "cell_type": "code",
   "execution_count": 2,
   "id": "e45590e1",
   "metadata": {},
   "outputs": [
    {
     "name": "stdout",
     "output_type": "stream",
     "text": [
      "['Hello', 'my', 'name', 'is', 'Aaditya']\n",
      "Enter length: 4\n"
     ]
    },
    {
     "data": {
      "text/plain": [
       "['Hello', 'Aaditya']"
      ]
     },
     "execution_count": 2,
     "metadata": {},
     "output_type": "execute_result"
    }
   ],
   "source": [
    "greaterthan(\"Hello my name is Aaditya\")"
   ]
  },
  {
   "cell_type": "markdown",
   "id": "faee28f5",
   "metadata": {},
   "source": [
    "# 2.Write a Python program for removing i-th character from a string?"
   ]
  },
  {
   "cell_type": "code",
   "execution_count": 3,
   "id": "bc87291c",
   "metadata": {},
   "outputs": [],
   "source": [
    "def character_removal(sentence):\n",
    "    split = sentence.split(\" \")\n",
    "\n",
    "    i_th = int(input(\"Enter position: \"))\n",
    "    for i in split:\n",
    "        if split[i_th]==i:\n",
    "            split.remove(i)\n",
    "    sentence = \" \".join(split)\n",
    "    return sentence"
   ]
  },
  {
   "cell_type": "code",
   "execution_count": 4,
   "id": "96a31ca7",
   "metadata": {},
   "outputs": [
    {
     "name": "stdout",
     "output_type": "stream",
     "text": [
      "Enter position: 2\n"
     ]
    },
    {
     "data": {
      "text/plain": [
       "'My name Aaditya'"
      ]
     },
     "execution_count": 4,
     "metadata": {},
     "output_type": "execute_result"
    }
   ],
   "source": [
    "character_removal(\"My name is Aaditya\")"
   ]
  },
  {
   "cell_type": "markdown",
   "id": "0b81041f",
   "metadata": {},
   "source": [
    "# 3.Write a Python program to split and join a string?"
   ]
  },
  {
   "cell_type": "code",
   "execution_count": 5,
   "id": "182783f6",
   "metadata": {},
   "outputs": [],
   "source": [
    "def split_join(sentence):\n",
    "    split = sentence.split()\n",
    "    print(\"Splited sentence: \",split)\n",
    "\n",
    "    join  = ' '.join(split)\n",
    "    print(\"Joined sentence : \",join)"
   ]
  },
  {
   "cell_type": "code",
   "execution_count": 6,
   "id": "f84cb1af",
   "metadata": {},
   "outputs": [
    {
     "name": "stdout",
     "output_type": "stream",
     "text": [
      "Splited sentence:  ['Hi', 'I', 'am', 'Aaditya']\n",
      "Joined sentence :  Hi I am Aaditya\n"
     ]
    }
   ],
   "source": [
    "split_join(\"Hi I am Aaditya\")"
   ]
  },
  {
   "cell_type": "markdown",
   "id": "a4982344",
   "metadata": {},
   "source": [
    "# 4.Write Python to check if a given string is binary string or not?"
   ]
  },
  {
   "cell_type": "code",
   "execution_count": 7,
   "id": "c3ea182f",
   "metadata": {},
   "outputs": [],
   "source": [
    "def binary_check(string):\n",
    "    arrange = set(string)\n",
    "    binary = {'0','1'}\n",
    "    \n",
    "    if arrange == binary or arrange=={'0'} or arrange == {'1'}:\n",
    "        print(\"String is binary\")\n",
    "    else:\n",
    "        print(\"String not binary\")"
   ]
  },
  {
   "cell_type": "code",
   "execution_count": 8,
   "id": "c393bc2c",
   "metadata": {},
   "outputs": [
    {
     "name": "stdout",
     "output_type": "stream",
     "text": [
      "String is binary\n"
     ]
    }
   ],
   "source": [
    "binary_check('01010101')"
   ]
  },
  {
   "cell_type": "markdown",
   "id": "f681d50e",
   "metadata": {},
   "source": [
    "# 5.Write a Python program to find uncommon words from two Strings?"
   ]
  },
  {
   "cell_type": "code",
   "execution_count": 11,
   "id": "9a7b8780",
   "metadata": {},
   "outputs": [
    {
     "name": "stdout",
     "output_type": "stream",
     "text": [
      "Enter String: abcd\n",
      "Enter String: bdpm\n",
      "{'p', 'c', 'a', 'm'}\n"
     ]
    }
   ],
   "source": [
    "string1 = str(input(\"Enter String: \"))\n",
    "string2 = str(input(\"Enter String: \"))\n",
    "\n",
    "s1,s2 = set(string1), set(string2)\n",
    "\n",
    "result = (s1.difference(s2)).union((s2.difference(s1)))\n",
    "print(result)"
   ]
  },
  {
   "cell_type": "markdown",
   "id": "3a234e33",
   "metadata": {},
   "source": [
    "# 6.Write a Python to find all duplicate characters in string?"
   ]
  },
  {
   "cell_type": "code",
   "execution_count": 12,
   "id": "a79f9f34",
   "metadata": {},
   "outputs": [
    {
     "name": "stdout",
     "output_type": "stream",
     "text": [
      "Enter string:  Hello World. Hello Friends. Everyone says Hello\n",
      "Duplicate words: ['hello']\n",
      "Original list of words: ['hello', 'world.', 'friends.', 'everyone', 'says']\n"
     ]
    }
   ],
   "source": [
    "string = str(input(\"Enter string:  \")).lower().split()\n",
    "char = []\n",
    "duplicate = []\n",
    "\n",
    "for i in string:\n",
    "    if i  not in char:\n",
    "        char.append(i)\n",
    "    else:\n",
    "        duplicate.append(i)\n",
    "\n",
    "print(f\"Duplicate words: {list(set(duplicate))}\")\n",
    "print(f\"Original list of words: {char}\")"
   ]
  },
  {
   "cell_type": "markdown",
   "id": "4b86f70d",
   "metadata": {},
   "source": [
    "# 7. Write a Python Program to check if a string contains any special character?"
   ]
  },
  {
   "cell_type": "code",
   "execution_count": 13,
   "id": "a5b9e1a4",
   "metadata": {},
   "outputs": [
    {
     "name": "stdout",
     "output_type": "stream",
     "text": [
      "Enter string: Hello@everyone!My*Name/'is]Aaditya\n",
      "Special char found --> @\n",
      "Special char found --> !\n",
      "Special char found --> *\n",
      "Special char found --> /\n",
      "Special char found --> ]\n"
     ]
    }
   ],
   "source": [
    "spl_char = '[@_!#$%^&*()<>?/\\|}{~:]'\n",
    "string = str(input(\"Enter string: \"))\n",
    "\n",
    "for i in string:\n",
    "    if i not in spl_char:\n",
    "        continue\n",
    "    else:\n",
    "        print(f\"Special char found --> {i}\")"
   ]
  }
 ],
 "metadata": {
  "kernelspec": {
   "display_name": "Python 3 (ipykernel)",
   "language": "python",
   "name": "python3"
  },
  "language_info": {
   "codemirror_mode": {
    "name": "ipython",
    "version": 3
   },
   "file_extension": ".py",
   "mimetype": "text/x-python",
   "name": "python",
   "nbconvert_exporter": "python",
   "pygments_lexer": "ipython3",
   "version": "3.9.7"
  }
 },
 "nbformat": 4,
 "nbformat_minor": 5
}
