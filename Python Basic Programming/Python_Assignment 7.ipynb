{
 "cells": [
  {
   "cell_type": "markdown",
   "id": "ff44426b",
   "metadata": {},
   "source": [
    "# Programming Assignment_7"
   ]
  },
  {
   "cell_type": "markdown",
   "id": "1dd38082",
   "metadata": {},
   "source": [
    "# 1.Write a Python Program to find sum of array?"
   ]
  },
  {
   "cell_type": "code",
   "execution_count": 6,
   "id": "20d284d4",
   "metadata": {},
   "outputs": [
    {
     "name": "stdout",
     "output_type": "stream",
     "text": [
      "Length of array: 5\n",
      "10\n",
      "20\n",
      "30\n",
      "40\n",
      "50\n",
      "Array: [10, 20, 30, 40, 50]\n",
      "Sum of given array is: 150\n"
     ]
    }
   ],
   "source": [
    "size = int(input(\"Length of array: \"))\n",
    "array = [int(input()) for i in range(size)]    \n",
    "\n",
    "print(f\"Array: {array}\\nSum of given array is: {sum(array)}\")"
   ]
  },
  {
   "cell_type": "markdown",
   "id": "d0411d32",
   "metadata": {},
   "source": [
    "# 2.Write a Python Program to find largest element in an array?"
   ]
  },
  {
   "cell_type": "code",
   "execution_count": 7,
   "id": "ede2c192",
   "metadata": {},
   "outputs": [
    {
     "name": "stdout",
     "output_type": "stream",
     "text": [
      "Length of array: 5\n",
      "56\n",
      "23\n",
      "35\n",
      "98\n",
      "12\n",
      "Array: [56, 23, 35, 98, 12] \n",
      "Largest element in given array is: 98\n"
     ]
    }
   ],
   "source": [
    "size = int(input(\"Length of array: \"))\n",
    "array = [int(input()) for i in range(size)]\n",
    "    \n",
    "print(f\"Array: {array} \\nLargest element in given array is: {max(array)}\")"
   ]
  },
  {
   "cell_type": "markdown",
   "id": "045e900d",
   "metadata": {},
   "source": [
    "# 3.Write a Python Program for array rotation?"
   ]
  },
  {
   "cell_type": "code",
   "execution_count": 8,
   "id": "089b1d0e",
   "metadata": {},
   "outputs": [
    {
     "name": "stdout",
     "output_type": "stream",
     "text": [
      "Length of array: 5\n",
      "1\n",
      "2\n",
      "3\n",
      "4\n",
      "5\n",
      "Array: [1, 2, 3, 4, 5] \n",
      "Rotated Array: [5, 4, 3, 2, 1]\n"
     ]
    }
   ],
   "source": [
    "size = int(input(\"Length of array: \"))\n",
    "array = [int(input()) for i in range(size)]\n",
    "    \n",
    "print(f\"Array: {array} \\nRotated Array: {array[::-1]}\")"
   ]
  },
  {
   "cell_type": "markdown",
   "id": "3aee5b01",
   "metadata": {},
   "source": [
    "# 4.Write a Python Program to Split the array and add the first part to the end?"
   ]
  },
  {
   "cell_type": "code",
   "execution_count": 10,
   "id": "92f3bdc6",
   "metadata": {},
   "outputs": [
    {
     "name": "stdout",
     "output_type": "stream",
     "text": [
      "Length of array: 6\n",
      "1\n",
      "2\n",
      "3\n",
      "4\n",
      "5\n",
      "6\n",
      "First part  : [1, 2, 3]\n",
      "Second part : [4, 5, 6]\n",
      "Final Array:  [4, 5, 6, 1, 2, 3]\n"
     ]
    }
   ],
   "source": [
    "size = int(input(\"Length of array: \"))\n",
    "array = [int(input()) for i in range(size)]\n",
    "\n",
    "mid = size//2\n",
    "print(f\"First part  : {array[:mid]}\\nSecond part : {array[mid:]}\")\n",
    "\n",
    "array = array[mid:] + array[:mid]\n",
    "print(\"Final Array: \",array)"
   ]
  },
  {
   "cell_type": "markdown",
   "id": "abd3e4da",
   "metadata": {},
   "source": [
    "# 5.Write a Python Program to check if given array is Monotonic?"
   ]
  },
  {
   "cell_type": "code",
   "execution_count": 13,
   "id": "bae8f6f5",
   "metadata": {},
   "outputs": [],
   "source": [
    "def monotonic(array):\n",
    "    return(all(array[i]<=array[i+1] for i in range(len(array)-1)) or all(array[i]>=array[i+1] for i in range(len(array)-1)))"
   ]
  },
  {
   "cell_type": "code",
   "execution_count": 14,
   "id": "0b3c4e56",
   "metadata": {},
   "outputs": [
    {
     "name": "stdout",
     "output_type": "stream",
     "text": [
      "Length of array: 5\n",
      "12\n",
      "23\n",
      "34\n",
      "45\n",
      "56\n",
      "True\n"
     ]
    }
   ],
   "source": [
    "size = int(input(\"Length of array: \"))\n",
    "array = [int(input()) for i in range(size)]\n",
    "\n",
    "print(monotonic(array))"
   ]
  }
 ],
 "metadata": {
  "kernelspec": {
   "display_name": "Python 3 (ipykernel)",
   "language": "python",
   "name": "python3"
  },
  "language_info": {
   "codemirror_mode": {
    "name": "ipython",
    "version": 3
   },
   "file_extension": ".py",
   "mimetype": "text/x-python",
   "name": "python",
   "nbconvert_exporter": "python",
   "pygments_lexer": "ipython3",
   "version": "3.9.7"
  }
 },
 "nbformat": 4,
 "nbformat_minor": 5
}
