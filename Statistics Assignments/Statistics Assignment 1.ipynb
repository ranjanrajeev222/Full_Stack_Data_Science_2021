{
 "cells": [
  {
   "cell_type": "markdown",
   "metadata": {},
   "source": [
    "# 2. There are 100 passengers lined up to board an airplane with 100 seats (with each seat assigned to one of the passengers). The first passenger in line crazily decides to sit in a randomly chosen seat (with all seats equally likely). Each subsequent passenger takes his or her assigned seat if available, and otherwise sits in a random available seat. What is the probability that the last passenger in line gets to sit in his or her assigned seat?\n",
    "\n",
    "Sol:\n",
    "    \n",
    "    This is probably the ugliest solution possible to this problem but here goes. Let’s first consider a special case where there are only 2 people (Alice and Bob) and 2 seats on the airplane. Alice picks a seat at random. The only way Bob gets to pick his designated seat is if Alice correctly picks hers. Since there are only 2 choices for Alice she picks her own seat correctly with probability 1/21/2\n",
    "\n",
    "Therefore P(P( Bob gets his seat)=P()=P(Alice chooses her own seat)=1/2)=1/2\n",
    "\n",
    "Now lets consider one more special case where we now have 3 people (Alice, Bob and Carlos) boarding the flight in that order and Alice picking a random seat first up. In this scenario, Carlos gets to sit on his designated seat in one of the following two possibilities:\n",
    "\n",
    "·  Alice picks her own seat\n",
    "\n",
    "·  Alice picks Bob’s seat and Bob picks Alice’s seat.\n",
    "\n",
    "In all other cases the probability of Carlos picking his seat is 0. So we have :\n",
    "\n",
    "P(P( Carlos gets his seat )=P()=P( Alice picks her own seat )+P()+P( Alice picks Bob’s seat )∗P()∗P( Bob picks Alice’s seat))\n",
    "\n",
    "This reduces to :\n",
    "\n",
    "P(P( Carlos gets his seat )=1/3+(1/3)∗(1/2)=(1/3+1/6)=1/2.\n",
    "\n"
   ]
  },
  {
   "cell_type": "code",
   "execution_count": null,
   "metadata": {},
   "outputs": [],
   "source": []
  }
 ],
 "metadata": {
  "kernelspec": {
   "display_name": "Python 3 (ipykernel)",
   "language": "python",
   "name": "python3"
  },
  "language_info": {
   "codemirror_mode": {
    "name": "ipython",
    "version": 3
   },
   "file_extension": ".py",
   "mimetype": "text/x-python",
   "name": "python",
   "nbconvert_exporter": "python",
   "pygments_lexer": "ipython3",
   "version": "3.9.7"
  }
 },
 "nbformat": 4,
 "nbformat_minor": 4
}
