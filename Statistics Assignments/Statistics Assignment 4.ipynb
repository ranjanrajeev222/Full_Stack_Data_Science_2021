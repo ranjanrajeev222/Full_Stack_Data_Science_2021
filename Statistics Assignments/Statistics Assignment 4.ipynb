{
 "cells": [
  {
   "cell_type": "markdown",
   "metadata": {},
   "source": [
    "# 1. Is it possible that an event is independent of itself? If so, when?\n",
    "\n",
    "Sol: \n",
    "\n",
    "The only events that are independent of themselves are those with probability either 0 or 1. That follows from the fact that a number is its own square if and only if it's either 0 or 1. The only way a random variable X can be independent of itself is if for every measurable set A, either Pr(X∈A)=1 or Pr(X∈A)=0.\n",
    "\n"
   ]
  },
  {
   "cell_type": "markdown",
   "metadata": {},
   "source": [
    "# 2. Is it always true that if A and B are independent events, then Ac and Bc are independent events? Show that it is, or give a counter example.'\n",
    "\n",
    "Sol:\n",
    "    \n",
    "    So by definition, A and BC are also independent, which by definition again means that the occurrence of BC doesn't affect the probability of A. ... Therefore, the occurrence of BC also doesn't affect the probability of AC. So by definition, BC and AC are also independent.\n",
    "\n"
   ]
  },
  {
   "cell_type": "code",
   "execution_count": null,
   "metadata": {},
   "outputs": [],
   "source": []
  }
 ],
 "metadata": {
  "kernelspec": {
   "display_name": "Python 3 (ipykernel)",
   "language": "python",
   "name": "python3"
  },
  "language_info": {
   "codemirror_mode": {
    "name": "ipython",
    "version": 3
   },
   "file_extension": ".py",
   "mimetype": "text/x-python",
   "name": "python",
   "nbconvert_exporter": "python",
   "pygments_lexer": "ipython3",
   "version": "3.9.7"
  }
 },
 "nbformat": 4,
 "nbformat_minor": 4
}
