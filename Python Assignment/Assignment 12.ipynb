{
 "cells": [
  {
   "cell_type": "markdown",
   "metadata": {},
   "source": [
    "# 1. In what modes should the PdfFileReader() and PdfFileWriter() File objects will be opened?\n",
    "\n",
    "They should be opened in binary mode, **rb** or **wb**"
   ]
  },
  {
   "cell_type": "markdown",
   "metadata": {},
   "source": [
    "# 2. From a PdfFileReader object, how do you get a Page object for page 5?\n",
    "\n",
    "page_five = pdf_reader.getPage(4)"
   ]
  },
  {
   "cell_type": "markdown",
   "metadata": {},
   "source": [
    "# 3. What PdfFileReader variable stores the number of pages in the PDF document?\n",
    "\n",
    "**numPages** is the variable/attribute of PdfFileReader that stores the number of pages in the PDF."
   ]
  },
  {
   "cell_type": "markdown",
   "metadata": {},
   "source": [
    "# 4. If a PdfFileReader object’s PDF is encrypted with the password swordfish, what must you do before you can obtain Page objects from it?\n",
    "\n",
    "You have to first decrypt the file using **PdfFileReader_object.decrypt(\"swordfish\")**"
   ]
  },
  {
   "cell_type": "markdown",
   "metadata": {},
   "source": [
    "# 5. What methods do you use to rotate a page?\n",
    "\n",
    "rotateCounterClockwise()"
   ]
  },
  {
   "cell_type": "markdown",
   "metadata": {},
   "source": [
    "# 6. What is the difference between a Run object and a Paragraph object?\n",
    "\n",
    "A run in a word document is a continuous sequence of words having similar properties, such as similar font sizes, font shapes, and font styles.\n",
    "\n",
    "You can access all the paragraphs in the document via the paragraphs attribute. An empty line is also read as a paragraph by the Document.\n",
    "\n",
    "Runs are subelements of paragraph objects."
   ]
  },
  {
   "cell_type": "markdown",
   "metadata": {},
   "source": [
    "# 7. How do you obtain a list of Paragraph objects for a Document object that’s stored in a variable named doc?\n",
    "\n",
    "docx.Documents(\"file path\").paragraphs"
   ]
  },
  {
   "cell_type": "markdown",
   "metadata": {},
   "source": [
    "# 8. What type of object has bold, underline, italic, strike, and outline variables?\n",
    "\n",
    "**Run Objects**"
   ]
  },
  {
   "cell_type": "markdown",
   "metadata": {},
   "source": [
    "# 9. What is the difference between False, True, and None for the bold variable?\n",
    "\n",
    "**True** will set the bold attribute to active, whereas **False** and **None** set it to inactive. There is virtually no difference in **False** and **None**."
   ]
  },
  {
   "cell_type": "markdown",
   "metadata": {},
   "source": [
    "# 10. How do you create a Document object for a new Word document?\n",
    "\n",
    "import docx\n",
    "\n",
    "doc = docx.Document()"
   ]
  },
  {
   "cell_type": "markdown",
   "metadata": {},
   "source": [
    "# 11. How do you add a paragraph with the text 'Hello, there!' to a Document object stored in a variable named doc?\n",
    "\n",
    "doc.add_paragraph(Hello, there!')"
   ]
  },
  {
   "cell_type": "markdown",
   "metadata": {},
   "source": [
    "# 12. What integers represent the levels of headings available in Word documents?\n",
    "\n",
    "Integers from 0-9 represent the levels of headings inside the word document."
   ]
  }
 ],
 "metadata": {
  "kernelspec": {
   "display_name": "Python 3",
   "language": "python",
   "name": "python3"
  },
  "language_info": {
   "codemirror_mode": {
    "name": "ipython",
    "version": 3
   },
   "file_extension": ".py",
   "mimetype": "text/x-python",
   "name": "python",
   "nbconvert_exporter": "python",
   "pygments_lexer": "ipython3",
   "version": "3.8.5"
  }
 },
 "nbformat": 4,
 "nbformat_minor": 4
}
