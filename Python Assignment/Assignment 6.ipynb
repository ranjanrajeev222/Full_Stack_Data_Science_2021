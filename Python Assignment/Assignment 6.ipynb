{
 "cells": [
  {
   "cell_type": "markdown",
   "metadata": {},
   "source": [
    "# 1. What are escape characters, and how do you use them?\n",
    "\n",
    "Are a shorthand for a particular task that directs the compiler to do that certain task."
   ]
  },
  {
   "cell_type": "markdown",
   "metadata": {},
   "source": [
    "# 2. What do the escape characters n and t stand for?\n",
    "\n",
    "n stands for a new line, whereas t stands for tab space."
   ]
  },
  {
   "cell_type": "markdown",
   "metadata": {},
   "source": [
    "# 3. What is the way to include backslash characters in a string?\n",
    "\n",
    "\\\\\\"
   ]
  },
  {
   "cell_type": "markdown",
   "metadata": {},
   "source": [
    "# 4. The string \"Howl's Moving Castle\" is a correct value. Why isn't the single quote character in the word Howl's not escaped a problem?\n",
    "\n",
    "Because you are allowed to have single quotes inside the string if string declaration is done via double qoutes and vice versa."
   ]
  },
  {
   "cell_type": "markdown",
   "metadata": {},
   "source": [
    "# 5. How do you write a string of newlines if you don't want to use the n character?\n",
    "\n",
    "To use strings in a separate print statement."
   ]
  },
  {
   "cell_type": "markdown",
   "metadata": {},
   "source": [
    "# 6. What are the values of the given expressions?\n",
    "\n",
    "'Hello, world!'[1] --> 'e'\n",
    "\n",
    "'Hello, world!'[0:5] --> 'Hello'\n",
    "\n",
    "'Hello, world!'[:5] --> 'Hello'\n",
    "\n",
    "'Hello, world!'[3:] --> 'lo, world!'"
   ]
  },
  {
   "cell_type": "markdown",
   "metadata": {},
   "source": [
    "# 7. What are the values of the following expressions?\n",
    "\n",
    "'Hello'.upper() --> 'HELLO'\n",
    "\n",
    "'Hello'.upper().isupper() --> True\n",
    "\n",
    "'Hello'.upper().lower() -->'hello'"
   ]
  },
  {
   "cell_type": "markdown",
   "metadata": {},
   "source": [
    "# 8. What are the values of the following expressions?\n",
    "\n",
    "'Remember, remember, the fifth of July.'.split() --> ['Remember,', 'remember,', 'the', 'fifth', 'of', 'July']\n",
    "\n",
    "'-'.join('There can only one.'.split()) --> 'There-can-only-one.'"
   ]
  },
  {
   "cell_type": "markdown",
   "metadata": {},
   "source": [
    "# 9. What are the methods for right-justifying, left-justifying, and centering a string?\n",
    "\n",
    "rjust(), ljust and center()"
   ]
  },
  {
   "cell_type": "markdown",
   "metadata": {},
   "source": [
    "# 10. What is the best way to remove whitespace characters from the start or end?\n",
    "\n",
    ".strip()"
   ]
  }
 ],
 "metadata": {
  "kernelspec": {
   "display_name": "Python 3",
   "language": "python",
   "name": "python3"
  },
  "language_info": {
   "codemirror_mode": {
    "name": "ipython",
    "version": 3
   },
   "file_extension": ".py",
   "mimetype": "text/x-python",
   "name": "python",
   "nbconvert_exporter": "python",
   "pygments_lexer": "ipython3",
   "version": "3.8.5"
  }
 },
 "nbformat": 4,
 "nbformat_minor": 4
}
