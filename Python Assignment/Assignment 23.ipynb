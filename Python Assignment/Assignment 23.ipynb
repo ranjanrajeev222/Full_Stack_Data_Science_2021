{
 "cells": [
  {
   "cell_type": "markdown",
   "metadata": {},
   "source": [
    "# 1. What is the result of the code, and why?\n",
    "\n",
    "def func(a, b=6, c=8):\n",
    "\n",
    "    print(a, b, c)\n",
    "\n",
    "func(1, 2)"
   ]
  },
  {
   "cell_type": "markdown",
   "metadata": {},
   "source": [
    "**output**: 1 2 8\n",
    "\n",
    "**explanation**: This code runs the function \"func\" which is being passed implicit argument values, \"a\" as 1 and \"b\" as 2. \"c\" is not passed so, it captures it's default value which is \"8\".\n",
    "And then the function prints \"a\", \"b\" and \"c\""
   ]
  },
  {
   "cell_type": "markdown",
   "metadata": {},
   "source": [
    "# 2. What is the result of this code, and why?\n",
    "\n",
    "def func(a, b, c=5):\n",
    "\n",
    "    print(a, b, c)\n",
    "    \n",
    "func(1, c=3, b=2)"
   ]
  },
  {
   "cell_type": "markdown",
   "metadata": {},
   "source": [
    "**output**: 1 2 3\n",
    "\n",
    "**explanation**: This code runs the function \"func\" which is being passed explicit argument values, \"b\" as 2 and \"c\" as \"3\". In here arguments are not exactly passed in the sequence that is defined in the function. \"a\" is passed without a reference, as the order is correct. But \"c\" is passed before \"b\", so it is explicitely mentioned when function \"func\" is called.\n",
    "And then the function prints \"a\", \"b\" and \"c\""
   ]
  },
  {
   "cell_type": "markdown",
   "metadata": {},
   "source": [
    "# 3. How about this code: what is its result, and why?\n",
    "\n",
    "def func(a, *pargs):\n",
    "    \n",
    "    print(a, pargs)\n",
    "\n",
    "func(1, 2, 3)"
   ]
  },
  {
   "cell_type": "markdown",
   "metadata": {},
   "source": [
    "**output**: 1 (2,3)\n",
    "    \n",
    "**explanation**: In this code function \"func\" is called which is passed arguments implicitely, and also have ***args** functionality setup. So, the first value it takes is assigned to local variable \"a\" as 1. And, the rest of it is considered as \"pargs\" tuple which is (2,3).\n",
    "And, then the function prints \"a\" and \"pargs\""
   ]
  },
  {
   "cell_type": "markdown",
   "metadata": {},
   "source": [
    "# 4. What does this code print, and why?\n",
    "\n",
    "def func(a, **kargs):\n",
    "\n",
    "    print(a, kargs)\n",
    "\n",
    "func(a=1, c=3, b=2)"
   ]
  },
  {
   "cell_type": "markdown",
   "metadata": {},
   "source": [
    "**output**: 1 {'c' : 3, 'b' : 2}\n",
    "\n",
    "**explanation**: In this code function \"func\" is called which is passed arguments explicitely, and also have ****kwargs** functionality setup. Here, already refrenced variable name \"a\" is passed explicitely, and everything else which is not an already referenced variable value is considered to be part of \"kargs\" dictionary."
   ]
  },
  {
   "cell_type": "markdown",
   "metadata": {},
   "source": [
    "# 5. What gets printed by this, and explain?\n",
    "\n",
    "def func(a, b, c=8, d=5): \n",
    "    \n",
    "    print(a, b, c, d)\n",
    "\n",
    "func(1, *(5, 6))"
   ]
  },
  {
   "cell_type": "markdown",
   "metadata": {},
   "source": [
    "**output**: 1 5 6 5\n",
    "\n",
    "**explanation**: This code runs the function \"func\", which has been passed implicit arguments. Here, a tuple is also passed, with an \"*\" before it to, tell the system to unpack the tuple, and assign it to referenced variables in the sequence they are defined in the function. And, then it print \"a\", \"b\", \"c\", and \"d\"."
   ]
  },
  {
   "cell_type": "markdown",
   "metadata": {},
   "source": [
    "# 6. what is the result of this, and explain?\n",
    "\n",
    "def func(a, b, c): \n",
    "\n",
    "    a = 2; b[0] = 'x'; c['a'] = 'y'\n",
    "\n",
    "l=1; m=[1]; n={'a':0}\n",
    "\n",
    "func(l, m, n)\n",
    "\n",
    "l, m, n"
   ]
  },
  {
   "cell_type": "markdown",
   "metadata": {},
   "source": [
    "**output**: (1, ['x'], {'a': 'y'})\n",
    "\n",
    "**explanation**: "
   ]
  }
 ],
 "metadata": {
  "kernelspec": {
   "display_name": "Python 3",
   "language": "python",
   "name": "python3"
  },
  "language_info": {
   "codemirror_mode": {
    "name": "ipython",
    "version": 3
   },
   "file_extension": ".py",
   "mimetype": "text/x-python",
   "name": "python",
   "nbconvert_exporter": "python",
   "pygments_lexer": "ipython3",
   "version": "3.8.5"
  }
 },
 "nbformat": 4,
 "nbformat_minor": 4
}
