{
 "cells": [
  {
   "cell_type": "markdown",
   "metadata": {},
   "source": [
    "# 1.What are the two values of the Boolean data type? How do you write them?\n",
    "\n",
    "True\n",
    "\n",
    "False"
   ]
  },
  {
   "cell_type": "markdown",
   "metadata": {},
   "source": [
    "# 2. What are the three different types of Boolean operators?\n",
    "\n",
    "AND\n",
    "\n",
    "OR\n",
    "\n",
    "NOT"
   ]
  },
  {
   "cell_type": "markdown",
   "metadata": {},
   "source": [
    "# 3. Make a list of each Boolean operator truth tables (i.e. every possible combination of Boolean values for the operator and what it evaluate )."
   ]
  },
  {
   "cell_type": "markdown",
   "metadata": {},
   "source": [
    "| Bool operator | Input 1  | Input 2  | Output  |\n",
    "|---:|:-------------|:-----------|:------|\n",
    "| AND |        |       |        |\n",
    "|     | False  | False | False  |\n",
    "|     | False  | True  | False  |\n",
    "|     | True   | False | False  |\n",
    "|     | True   | True  | True   |\n",
    "|     |        |       |        |\n",
    "| OR  |        |       |        |\n",
    "|     | False  | False | False  |\n",
    "|     | False  | True  | True   |\n",
    "|     | True   | False | True   |\n",
    "|     | True   | True  | True   |\n",
    "|     |        |       |        |\n",
    "| NOT |        |       |        |\n",
    "|     | False  | x     | True   |\n",
    "|     | True   | x     | False  |\n"
   ]
  },
  {
   "cell_type": "markdown",
   "metadata": {},
   "source": [
    "# 4. What are the values of the following expressions?\n",
    "\n",
    "* (5 > 4) and (3 == 5) --> False\n",
    "\n",
    "* not (5 > 4) --> False\n",
    "\n",
    "* (5 > 4) or (3 == 5) --> True\n",
    "\n",
    "* not ((5 > 4) or (3 == 5)) --> False\n",
    "\n",
    "* (True and True) and (True == False) --> False\n",
    "\n",
    "* (not False) or (not True) --> True"
   ]
  },
  {
   "cell_type": "markdown",
   "metadata": {},
   "source": [
    "# 5. What are the six comparison operators?\n",
    "\n",
    "* \"<\"\n",
    "* \">\"\n",
    "* \"==\"\n",
    "* \"!=\"\n",
    "* \"<=\"\n",
    "* \">=\""
   ]
  },
  {
   "cell_type": "markdown",
   "metadata": {},
   "source": [
    "# 7. Identify the three blocks in this code:\n",
    "\n",
    "spam = 0\n",
    "\n",
    "# Block 1\n",
    "\n",
    "if spam == 10:\n",
    "print('eggs')\n",
    "\n",
    "# Block 2\n",
    "\n",
    "if spam > 5:\n",
    "print('bacon')\n",
    "\n",
    "# Block 3\n",
    "\n",
    "else:\n",
    "print('ham')\n",
    "print('spam')\n",
    "print('spam')"
   ]
  },
  {
   "cell_type": "markdown",
   "metadata": {},
   "source": [
    "# 8. Write code that prints Hello if 1 is stored in spam, prints Howdy if 2 is stored in spam, and prints Greetings! if anything else is stored in spam."
   ]
  },
  {
   "cell_type": "code",
   "execution_count": 6,
   "metadata": {},
   "outputs": [
    {
     "name": "stdout",
     "output_type": "stream",
     "text": [
      "Enter value of spam!3\n",
      "Greetings!\n"
     ]
    }
   ],
   "source": [
    "spam=int(input('Enter value of spam!'))\n",
    "if spam==1:\n",
    "    print('Hello')\n",
    "elif spam==2:\n",
    "    print('Howdy')\n",
    "else:\n",
    "    print('Greetings!')"
   ]
  },
  {
   "cell_type": "markdown",
   "metadata": {},
   "source": [
    "# 9.If your programme is stuck in an endless loop, what keys you’ll press?\n",
    "\n",
    "* To interrupt the kernel I,I\n",
    "* To restart the kernel 0,0"
   ]
  },
  {
   "cell_type": "markdown",
   "metadata": {},
   "source": [
    "# 10. How can you tell the difference between break and continue?\n",
    "\n",
    "* Break: Interrupt the loop when executed and passes control out of the loop.\n",
    "* Continue: Forces to execute the next iteration of the loop."
   ]
  },
  {
   "cell_type": "markdown",
   "metadata": {},
   "source": [
    "# 11. In a for loop, what is the difference between range(10), range(0, 10), and range(0, 10, 1)?\n",
    "\n",
    "Virtually there is no difference. But in the first instance we are only specifying the destination value and everything else is set to default. In the second instance we are only specifying initial and final value, step size is set to default. In the third everything is explicitely mentioned."
   ]
  },
  {
   "cell_type": "markdown",
   "metadata": {},
   "source": [
    "# 12. Write a short program that prints the numbers 1 to 10 using a for loop. Then write an equivalent program that prints the numbers 1 to 10 using a while loop."
   ]
  },
  {
   "cell_type": "code",
   "execution_count": null,
   "metadata": {},
   "outputs": [],
   "source": [
    "for _ in range(11):\n",
    "    print(_)"
   ]
  },
  {
   "cell_type": "code",
   "execution_count": null,
   "metadata": {},
   "outputs": [],
   "source": [
    "i=1\n",
    "while i<11:\n",
    "    print(i)\n",
    "    i+=1"
   ]
  },
  {
   "cell_type": "markdown",
   "metadata": {},
   "source": [
    "# 13. If you had a function named bacon() inside a module named spam, how would you call it after importing spam?\n",
    "\n",
    "spam.bacon()"
   ]
  }
 ],
 "metadata": {
  "kernelspec": {
   "display_name": "Python 3",
   "language": "python",
   "name": "python3"
  },
  "language_info": {
   "codemirror_mode": {
    "name": "ipython",
    "version": 3
   },
   "file_extension": ".py",
   "mimetype": "text/x-python",
   "name": "python",
   "nbconvert_exporter": "python",
   "pygments_lexer": "ipython3",
   "version": "3.8.5"
  }
 },
 "nbformat": 4,
 "nbformat_minor": 4
}
